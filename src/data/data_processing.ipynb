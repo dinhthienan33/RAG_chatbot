{
 "cells": [
  {
   "cell_type": "code",
   "execution_count": null,
   "metadata": {},
   "outputs": [
    {
     "name": "stderr",
     "output_type": "stream",
     "text": [
      "d:\\anaconda\\envs\\RAG\\Lib\\site-packages\\tqdm\\auto.py:21: TqdmWarning: IProgress not found. Please update jupyter and ipywidgets. See https://ipywidgets.readthedocs.io/en/stable/user_install.html\n",
      "  from .autonotebook import tqdm as notebook_tqdm\n",
      "d:\\anaconda\\envs\\RAG\\Lib\\site-packages\\huggingface_hub\\file_download.py:147: UserWarning: `huggingface_hub` cache-system uses symlinks by default to efficiently store duplicated files but your machine does not support them in C:\\Users\\APTS\\.cache\\huggingface\\hub\\datasets--5CD-AI--sendo_vietnamese_multiturn_gemini_50k. Caching files will still work but in a degraded version that might require more space on your disk. This warning can be disabled by setting the `HF_HUB_DISABLE_SYMLINKS_WARNING` environment variable. For more details, see https://huggingface.co/docs/huggingface_hub/how-to-cache#limitations.\n",
      "To support symlinks on Windows, you either need to activate Developer Mode or to run Python as an administrator. In order to activate developer mode, see this article: https://docs.microsoft.com/en-us/windows/apps/get-started/enable-your-device-for-development\n",
      "  warnings.warn(message)\n",
      "Generating train split: 100%|██████████| 50000/50000 [00:11<00:00, 4331.61 examples/s]\n"
     ]
    }
   ],
   "source": [
    "from datasets import load_dataset\n",
    "import ast\n",
    "import pandas as pd\n",
    "ds = load_dataset(\"5CD-AI/sendo_vietnamese_multiturn_gemini_50k\")"
   ]
  },
  {
   "cell_type": "code",
   "execution_count": null,
   "metadata": {},
   "outputs": [],
   "source": [
    "df=ds['train']\n",
    "df=pd.DataFrame(df)"
   ]
  },
  {
   "cell_type": "code",
   "execution_count": 88,
   "metadata": {},
   "outputs": [
    {
     "name": "stdout",
     "output_type": "stream",
     "text": [
      "                                            product_info  \\\n",
      "0      {'id': 17941435, 'name': 'Đầm cát hàn nhún', '...   \n",
      "1      {'id': 32254197, 'name': 'Váy trắng SN bé gái'...   \n",
      "2      {'id': 32979828, 'name': 'HỖ TRỢ PHÍ VẬN CHUYỂ...   \n",
      "3      {'id': 26935742, 'name': 'Đầm dây rút', 'price...   \n",
      "4      {'id': 20002567, 'name': 'Đầm 2 dây xinh mai',...   \n",
      "...                                                  ...   \n",
      "49995  {'id': 25785650, 'name': '[JMP_TX113_Đen] Bộ T...   \n",
      "49996  {'id': 30842992, 'name': 'Nous - Cài thẳng cộc...   \n",
      "49997  {'id': 21380536, 'name': 'đầm trễ vai nữ', 'pr...   \n",
      "49998  {'id': 28156839, 'name': 'Đầm thun cát nữ xinh...   \n",
      "49999  {'id': 18813692, 'name': 'Đầm phi bóng nữ cổ y...   \n",
      "\n",
      "                                               questions  \n",
      "0      ```json\\n{\\n \"lượt 1\": {\\n  \"người dùng\": \"Sao...  \n",
      "1      ```json\\n{\\n \"lượt 1\": {\\n  \"người dùng\": \"Tôi...  \n",
      "2      ```json\\n{\\n \"lượt 1\": {\\n  \"người dùng\": \"Tôi...  \n",
      "3      ```json\\n{\\n \"lượt 1\": {\\n  \"người dùng\": \"Chà...  \n",
      "4      ```json\\n{\\n \"lượt 1\": {\\n  \"người dùng\": \"Chà...  \n",
      "...                                                  ...  \n",
      "49995  ```json\\n{\\n \"lượt 1\": {\\n  \"người dùng\": \"Thậ...  \n",
      "49996  ```json\\n{\\n \"lượt 1\": {\\n  \"người dùng\": \"Có ...  \n",
      "49997  ```json\\n{\\n  \"lượt 1\": {\\n    \"người dùng\": \"...  \n",
      "49998  ```json\\n{\\n \"lượt 1\": {\\n  \"người dùng\": \"Lần...  \n",
      "49999  ```json\\n{\\n  \"lượt 1\": {\\n    \"người dùng\": \"...  \n",
      "\n",
      "[50000 rows x 2 columns]\n"
     ]
    }
   ],
   "source": [
    "\n",
    "\n",
    "# Assuming df['product_info'] contains string representations of dictionaries\n",
    "# Function to convert string to dictionary\n",
    "def to_dict(string):\n",
    "    try:\n",
    "        return ast.literal_eval(string)\n",
    "    except Exception as e:\n",
    "        print(f\"Error parsing: {string} - {e}\")\n",
    "        return None\n",
    "\n",
    "# Apply the function to the 'product_info' column\n",
    "df['product_info'] = df['product_info'].apply(to_dict)\n",
    "\n",
    "# Display the resulting DataFrame\n",
    "print(df)\n"
   ]
  },
  {
   "cell_type": "code",
   "execution_count": 93,
   "metadata": {},
   "outputs": [],
   "source": [
    "df.drop(columns='questions',inplace=True)"
   ]
  },
  {
   "cell_type": "code",
   "execution_count": 97,
   "metadata": {},
   "outputs": [],
   "source": [
    "df.to_csv('sendo_50k.csv',index=False)"
   ]
  },
  {
   "cell_type": "code",
   "execution_count": 98,
   "metadata": {},
   "outputs": [
    {
     "name": "stdout",
     "output_type": "stream",
     "text": [
      "Columns saved as JSON.\n"
     ]
    }
   ],
   "source": [
    "import pandas as pd\n",
    "\n",
    "\n",
    "# Convert the columns to JSON format\n",
    "json_data = df.to_json()\n",
    "\n",
    "# Save the JSON data to a file\n",
    "with open('sendo_50k.json', 'w') as file:\n",
    "    file.write(json_data)\n",
    "\n",
    "print(\"Columns saved as JSON.\")"
   ]
  },
  {
   "cell_type": "code",
   "execution_count": 5,
   "metadata": {},
   "outputs": [],
   "source": [
    "import json\n",
    "with open('sendo_50k.json', 'r') as file:\n",
    "    data = json.load(file)\n"
   ]
  },
  {
   "cell_type": "code",
   "execution_count": 3,
   "metadata": {},
   "outputs": [],
   "source": [
    "data=data['product_info']"
   ]
  },
  {
   "cell_type": "code",
   "execution_count": 4,
   "metadata": {},
   "outputs": [],
   "source": [
    "with open('sendo_50k.json', 'w') as file:\n",
    "    json.dump(data, file)"
   ]
  },
  {
   "cell_type": "code",
   "execution_count": 13,
   "metadata": {},
   "outputs": [
    {
     "name": "stdout",
     "output_type": "stream",
     "text": [
      "dict_keys(['id', 'name', 'price', 'price_max', 'weight', 'quantity', 'shop_free_shipping', 'stock_status', 'order_count', 'special_price', 'final_price', 'final_price_max', 'promotion_percent', 'required_options', 'attribute', 'description', 'rating_info', 'shop_info', 'return_policy', 'length_product', 'height_product', 'has_voucher', 'witdh_product'])\n"
     ]
    }
   ],
   "source": [
    "for x,y in data['product_info'].items():\n",
    "    print(y.keys())\n",
    "    break"
   ]
  },
  {
   "cell_type": "code",
   "execution_count": 1,
   "metadata": {},
   "outputs": [
    {
     "ename": "NameError",
     "evalue": "name 'data' is not defined",
     "output_type": "error",
     "traceback": [
      "\u001b[1;31m---------------------------------------------------------------------------\u001b[0m",
      "\u001b[1;31mNameError\u001b[0m                                 Traceback (most recent call last)",
      "Cell \u001b[1;32mIn[1], line 1\u001b[0m\n\u001b[1;32m----> 1\u001b[0m \u001b[38;5;28mlen\u001b[39m(\u001b[43mdata\u001b[49m)\n",
      "\u001b[1;31mNameError\u001b[0m: name 'data' is not defined"
     ]
    }
   ],
   "source": [
    "len(data)"
   ]
  },
  {
   "cell_type": "code",
   "execution_count": null,
   "metadata": {},
   "outputs": [],
   "source": []
  }
 ],
 "metadata": {
  "kernelspec": {
   "display_name": "RAG",
   "language": "python",
   "name": "python3"
  },
  "language_info": {
   "codemirror_mode": {
    "name": "ipython",
    "version": 3
   },
   "file_extension": ".py",
   "mimetype": "text/x-python",
   "name": "python",
   "nbconvert_exporter": "python",
   "pygments_lexer": "ipython3",
   "version": "3.12.5"
  }
 },
 "nbformat": 4,
 "nbformat_minor": 2
}
